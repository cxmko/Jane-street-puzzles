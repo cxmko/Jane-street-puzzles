{
 "cells": [
  {
   "cell_type": "markdown",
   "metadata": {},
   "source": [
    "# Jane Street Puzzle - April 2025: Sum One, Somewhere\n",
    "\n",
    "This notebook provides a step-by-step solution to the Jane Street puzzle from April 2025."
   ]
  },
  {
   "cell_type": "markdown",
   "metadata": {},
   "source": [
    "## Problem Statement\n",
    "\n",
    "For a fixed value of **p**, each node of an infinite complete binary tree is independently labeled **0** with probability **p**, and **1** otherwise. \n",
    "\n",
    "What is the value of **p** for which there is exactly a **1/2 probability** that there exists an infinite path down the tree with a sum of labels at most 1? \n",
    "\n",
    "The final answer should be accurate to 10 decimal places."
   ]
  },
  {
   "cell_type": "markdown",
   "metadata": {},
   "source": [
    "## Step 1: Setting up the Recursive Equations\n",
    "\n",
    "Let's define two key probabilities to model this problem recursively:\n",
    "\n",
    "-   **f(p)**: The probability that there exists at least one infinite path starting from the root with a sum of labels of at most 1.\n",
    "-   **g(p)**: The probability that there exists at least one infinite path starting from the root with a sum of labels equal to 0 (an all-0s path).\n",
    "\n",
    "We can express **f(p)** by considering the label of the root node:\n",
    "\n",
    "1.  The root is labeled **0** (with probability **p**): For a valid path to exist from the root, at least one of its two subtrees must contain a path with a sum of at most 1. The probability that a single subtree *does not* contain such a path is `(1 - f(p))`. Therefore, the probability that *neither* subtree contains such a path is `(1 - f(p))²`.\n",
    "\n",
    "2.  The root is labeled **1** (with probability **1-p**): If the root is 1, we have already used our budget of a single '1'. Therefore, any valid path must continue through a subtree with an all-0s path. The probability of finding an all-0s path in a subtree is `g(p)`.\n",
    "\n",
    "Combining these cases gives us the equation for **f(p)**:\n",
    "$$ f(p) = p \\cdot [1 - (1 - f(p))^2] + (1 - p) \\cdot [1 - (1 - g(p))^2] $$"
   ]
  },
  {
   "cell_type": "markdown",
   "metadata": {},
   "source": [
    "## Step 2: Solving for g(p)\n",
    "\n",
    "Now, let's find an expression for **g(p)**, the probability of an all-0s path.\n",
    "\n",
    "This gives the recursive relation:\n",
    "$$ g(p) = p \\cdot [1 - (1 - g(p))^2] $$\n",
    "\n",
    "This is a classic equation from percolation theory.\n",
    "$$ g = p(2g - g^2) $$\n",
    "$$ pg^2 - 2pg + g = 0 $$\n",
    "$$ g(pg - 2p + 1) = 0 $$\n",
    "\n",
    "This equation has two solutions: `g = 0` or `g = (2p - 1) / p`.\n",
    "\n",
    "The non-zero solution `g(p) = (2p - 1) / p` is physically meaningful only when `p > 1/2`.\n",
    "\n",
    "First, let's test the assumption that `p <= 1/2`.\n",
    "In this case, `g(p) = 0`, and our equation for `f(p)` simplifies to:\n",
    "$$ f(p) = p[1 - (1 - f(p))^2] $$\n",
    "The problem states that `f(p) = 1/2`.\n",
    "Substituting this in:\n",
    "$$ \\frac{1}{2} = p[1 - (1 - \\frac{1}{2})^2] = p[1 - \\frac{1}{4}] = \\frac{3}{4}p $$\n",
    "$$ p = \\frac{1}{2} \\cdot \\frac{4}{3} = \\frac{2}{3} $$\n",
    "This result, `p = 2/3`, contradicts our assumption that `p <= 1/2`.\n",
    "Therefore, we must operate in the regime where `p > 1/2` and `g(p) = (2p - 1) / p`."
   ]
  },
  {
   "cell_type": "markdown",
   "metadata": {},
   "source": [
    "## Step 3: Deriving the Final Cubic Equation\n",
    "\n",
    "Now we substitute `g(p) = (2p - 1) / p` and `f(p) = 1/2` into our main equation.\n",
    "\n",
    "$$ f(p) = p [1 - (1 - f(p))^2] + (1 - p) [1 - (1 - g(p))^2] $$\n",
    "\n",
    "Let's evaluate each term:\n",
    "- The first term is `p[1 - (1 - 1/2)²] = p(3/4)`.\n",
    "- For the second term, `1 - g(p) = 1 - (2p - 1)/p = (p - 2p + 1)/p = (1 - p)/p`.\n",
    "- So, `1 - (1 - g(p))² = 1 - ((1-p)/p)² = 1 - (1 - 2p + p²)/p² = (p² - 1 + 2p - p²)/p² = (2p - 1)/p²`.\n",
    "- The second term is `(1 - p) * (2p - 1)/p²`.\n",
    "\n",
    "Substituting everything back with `f(p) = 1/2`:\n",
    "$$ \\frac{1}{2} = \\frac{3}{4}p + \\frac{(1 - p)(2p - 1)}{p^2} $$\n",
    "\n",
    "To solve for `p`, we can multiply by `4p²` to clear the denominators:\n",
    "$$ 2p^2 = 3p^3 + 4(1 - p)(2p - 1) $$\n",
    "$$ 2p^2 = 3p^3 + 4(2p - 1 - 2p^2 + p) $$\n",
    "$$ 2p^2 = 3p^3 + 4(3p - 2p^2 - 1) $$\n",
    "$$ 2p^2 = 3p^3 + 12p - 8p^2 - 4 $$\n",
    "\n",
    "Rearranging the terms gives us the final cubic equation:\n",
    "$$ 3p^3 - 10p^2 + 12p - 4 = 0 $$"
   ]
  },
  {
   "cell_type": "markdown",
   "metadata": {},
   "source": [
    "## Step 4: Numerical Solution with Python\n",
    "\n",
    "The cubic equation `3p³ - 10p² + 12p - 4 = 0` does not have simple rational roots.\n",
    "We can solve it numerically using the Newton-Raphson method, which is an iterative approach to find the roots of a real-valued function.\n",
    "\n",
    "The formula for the Newton-Raphson method is:\n",
    "$$ p_{n+1} = p_n - \\frac{h(p_n)}{h'(p_n)} $$\n",
    "\n",
    "Where:\n",
    "- `h(p) = 3p³ - 10p² + 12p - 4`\n",
    "- `h'(p) = 9p² - 20p + 12`\n",
    "\n",
    "We need an initial guess. From our analysis, we know the root lies between `0.5` and `2/3`.\n",
    "A good starting point is `0.53`."
   ]
  },
  {
   "cell_type": "code",
   "execution_count": null,
   "metadata": {},
   "outputs": [],
   "source": [
    "def h(p):\n",
    "    \"\"\"The cubic equation we need to solve.\"\"\"\n",
    "    return 3 * p**3 - 10 * p**2 + 12 * p - 4\n",
    "\n",
    "def h_prime(p):\n",
    "    \"\"\"The derivative of the cubic equation.\"\"\"\n",
    "    return 9 * p**2 - 20 * p + 12\n",
    "\n",
    "def solve_newton_raphson(initial_guess, tolerance=1e-12, max_iterations=100):\n",
    "    \"\"\"Solves for the root using the Newton-Raphson method.\"\"\"\n",
    "    p = initial_guess\n",
    "    \n",
    "    for i in range(max_iterations):\n",
    "        h_p = h(p)\n",
    "        h_prime_p = h_prime(p)\n",
    "        \n",
    "        if abs(h_prime_p) < 1e-15:\n",
    "            raise ValueError(\"Derivative is zero, cannot continue.\")\n",
    "            \n",
    "        p_new = p - h_p / h_prime_p\n",
    "        \n",
    "        if abs(p_new - p) < tolerance:\n",
    "            print(f\"Converged after {i+1} iterations.\")\n",
    "            return p_new\n",
    "        \n",
    "        p = p_new\n",
    "        \n",
    "    raise ValueError(\"Solution did not converge within max iterations.\")\n",
    "\n",
    "# Our analysis showed the root is near 0.53\n",
    "initial_guess = 0.53\n",
    "\n",
    "solution = solve_newton_raphson(initial_guess)\n",
    "\n",
    "print(f\"\\nThe value of p accurate to 10 decimal places is: {solution:.10f}\")"
   ]
  },
  {
   "cell_type": "markdown",
   "metadata": {},
   "source": [
    "## Conclusion\n",
    "The value of **p** for which the probability of finding an infinite path with at most one '1' is exactly 1/2 is the root of the cubic equation `3p³ - 10p² + 12p - 4 = 0` that lies between `1/2` and `1`. The numerical solution gives:\n",
    "$$ p \\approx  0.5306035754 $$"
   ]
  }
 ],
 "metadata": {
  "kernelspec": {
   "display_name": "Python 3",
   "language": "python",
   "name": "python3"
  },
  "language_info": {
   "codemirror_mode": {
    "name": "ipython",
    "version": 3
   },
   "file_extension": ".py",
   "mimetype": "text/x-python",
   "name": "python",
   "nbconvert_exporter": "python",
   "pygments_lexer": "ipython3",
   "version": "3.9.7"
  }
 },
 "nbformat": 4,
 "nbformat_minor": 2
}
